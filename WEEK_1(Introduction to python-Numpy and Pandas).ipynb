{
 "cells": [
  {
   "cell_type": "code",
   "execution_count": 3,
   "metadata": {},
   "outputs": [
    {
     "name": "stdout",
     "output_type": "stream",
     "text": [
      "range(0, 15, 3)\n"
     ]
    }
   ],
   "source": [
    "a=range(0,15,3)\n",
    "print(a)"
   ]
  },
  {
   "cell_type": "code",
   "execution_count": 5,
   "metadata": {},
   "outputs": [
    {
     "ename": "NameError",
     "evalue": "name 'numpy' is not defined",
     "output_type": "error",
     "traceback": [
      "\u001b[0;31m---------------------------------------------------------------------------\u001b[0m",
      "\u001b[0;31mNameError\u001b[0m                                 Traceback (most recent call last)",
      "\u001b[0;32m<ipython-input-5-f996bc495939>\u001b[0m in \u001b[0;36m<module>\u001b[0;34m\u001b[0m\n\u001b[0;32m----> 1\u001b[0;31m \u001b[0mprint\u001b[0m\u001b[0;34m(\u001b[0m\u001b[0mnumpy\u001b[0m\u001b[0;34m.\u001b[0m\u001b[0msqrt\u001b[0m\u001b[0;34m(\u001b[0m\u001b[0;36m1.21\u001b[0m\u001b[0;34m)\u001b[0m\u001b[0;34m)\u001b[0m\u001b[0;34m\u001b[0m\u001b[0;34m\u001b[0m\u001b[0m\n\u001b[0m",
      "\u001b[0;31mNameError\u001b[0m: name 'numpy' is not defined"
     ]
    }
   ],
   "source": [
    "print(numpy.sqrt(1.21))"
   ]
  },
  {
   "cell_type": "code",
   "execution_count": 6,
   "metadata": {},
   "outputs": [
    {
     "name": "stdout",
     "output_type": "stream",
     "text": [
      "1.1\n",
      "-1.0\n",
      "5.2\n"
     ]
    }
   ],
   "source": [
    "import numpy as np\n",
    "print(np.sqrt(1.21))\n",
    "print(np.cos(np.pi))\n",
    "print(np.log(np.exp(5.2)))"
   ]
  },
  {
   "cell_type": "code",
   "execution_count": 8,
   "metadata": {},
   "outputs": [
    {
     "name": "stdout",
     "output_type": "stream",
     "text": [
      "[1 2 3 4 5]\n"
     ]
    }
   ],
   "source": [
    "vec=np.array([1,2,3,4,5])\n",
    "print(vec)"
   ]
  },
  {
   "cell_type": "code",
   "execution_count": 15,
   "metadata": {},
   "outputs": [
    {
     "name": "stdout",
     "output_type": "stream",
     "text": [
      "[[1 2]\n",
      " [2 3]\n",
      " [6 7]]\n",
      "\n",
      "[[1 2 6]\n",
      " [2 3 7]]\n"
     ]
    }
   ],
   "source": [
    "mat=np.array([[1,2],[2,3],[6,7]])\n",
    "print(mat)\n",
    "print(\"\")\n",
    "print(mat.T)"
   ]
  },
  {
   "cell_type": "code",
   "execution_count": 20,
   "metadata": {},
   "outputs": [
    {
     "name": "stdout",
     "output_type": "stream",
     "text": [
      "[ 0  1  2  3  4  5  6  7  8  9 10 11 12 13 14]\n",
      "\n",
      "[0]\n"
     ]
    }
   ],
   "source": [
    "vec1=np.arange(0,15)\n",
    "print(vec1)\n",
    "print(\"\")\n",
    "vec2=np.arange(0,5,10)\n",
    "print(vec2)"
   ]
  },
  {
   "cell_type": "code",
   "execution_count": 25,
   "metadata": {},
   "outputs": [
    {
     "name": "stdout",
     "output_type": "stream",
     "text": [
      "[0.         0.55555556 1.11111111 1.66666667 2.22222222 2.77777778\n",
      " 3.33333333 3.88888889 4.44444444 5.        ]\n",
      "[[0.         0.55555556]\n",
      " [1.11111111 1.66666667]\n",
      " [2.22222222 2.77777778]\n",
      " [3.33333333 3.88888889]\n",
      " [4.44444444 5.        ]]\n",
      "[[0.         0.55555556]\n",
      " [1.11111111 1.66666667]\n",
      " [2.22222222 2.77777778]\n",
      " [3.33333333 3.88888889]\n",
      " [4.44444444 5.        ]]\n"
     ]
    }
   ],
   "source": [
    "vec3=np.linspace(0,5,10)\n",
    "print(vec3)\n",
    "print(vec3.reshape(5,2))\n",
    "vec3_res=vec3.reshape(5,2)\n",
    "print(vec3_res)"
   ]
  },
  {
   "cell_type": "code",
   "execution_count": 2,
   "metadata": {},
   "outputs": [
    {
     "name": "stdout",
     "output_type": "stream",
     "text": [
      "[0.04278192 0.15675087 0.31460557 0.12164441 0.47034844 0.35012207\n",
      " 0.23178169 0.38786862 0.66584402 0.78403335 0.39723473 0.51572475\n",
      " 0.58545377 0.97230613 0.51486535 0.38258616 0.70745066 0.26818617\n",
      " 0.1304484 ]\n"
     ]
    }
   ],
   "source": [
    "import numpy as np\n",
    "rand_vec=np.random.rand(19)\n",
    "print(rand_vec)"
   ]
  },
  {
   "cell_type": "code",
   "execution_count": 3,
   "metadata": {},
   "outputs": [
    {
     "name": "stdout",
     "output_type": "stream",
     "text": [
      "0.23178168796147236\n"
     ]
    }
   ],
   "source": [
    "print(rand_vec[6])"
   ]
  },
  {
   "cell_type": "code",
   "execution_count": 4,
   "metadata": {},
   "outputs": [
    {
     "name": "stdout",
     "output_type": "stream",
     "text": [
      "[0.31460557 0.12164441 0.47034844 0.35012207]\n"
     ]
    }
   ],
   "source": [
    "print(rand_vec[2:6])"
   ]
  },
  {
   "cell_type": "code",
   "execution_count": 6,
   "metadata": {},
   "outputs": [
    {
     "name": "stdout",
     "output_type": "stream",
     "text": [
      "[ 0  3  6  9 12]\n",
      "[0.04278192 0.12164441 0.23178169 0.78403335 0.58545377]\n"
     ]
    }
   ],
   "source": [
    "a_range=np.arange(0,15,3)\n",
    "print(a_range)\n",
    "print(rand_vec[a_range])"
   ]
  },
  {
   "cell_type": "markdown",
   "metadata": {},
   "source": [
    "#now about Matrices"
   ]
  },
  {
   "cell_type": "code",
   "execution_count": 19,
   "metadata": {},
   "outputs": [
    {
     "name": "stdout",
     "output_type": "stream",
     "text": [
      "[[0.9045267  0.04833656 0.26727298 0.1744607  0.29687128]\n",
      " [0.15837509 0.6416919  0.99406007 0.61128597 0.06549397]\n",
      " [0.5476382  0.86092927 0.69422066 0.15401718 0.40937594]\n",
      " [0.64204066 0.71076196 0.18961376 0.8668974  0.31409636]\n",
      " [0.43440648 0.53064123 0.48678333 0.66889894 0.95454982]]\n"
     ]
    }
   ],
   "source": [
    "rand_mat=np.random.rand(5,5)\n",
    "print(rand_mat)"
   ]
  },
  {
   "cell_type": "code",
   "execution_count": 20,
   "metadata": {},
   "outputs": [
    {
     "name": "stdout",
     "output_type": "stream",
     "text": [
      "0.22199266184129818\n",
      "\n",
      "0.22199266184129818\n"
     ]
    }
   ],
   "source": [
    "print(rand_mat[1,2])\n",
    "print(\"\")\n",
    "print(rand_mat[1][2])"
   ]
  },
  {
   "cell_type": "code",
   "execution_count": 21,
   "metadata": {},
   "outputs": [
    {
     "name": "stdout",
     "output_type": "stream",
     "text": [
      "[[0.60219354 0.8024063 ]\n",
      " [0.33130423 0.22199266]]\n"
     ]
    }
   ],
   "source": [
    "print(rand_mat[0:2,1:3])"
   ]
  },
  {
   "cell_type": "code",
   "execution_count": 22,
   "metadata": {},
   "outputs": [],
   "source": [
    "#To cahnge some values"
   ]
  },
  {
   "cell_type": "code",
   "execution_count": 23,
   "metadata": {},
   "outputs": [
    {
     "name": "stdout",
     "output_type": "stream",
     "text": [
      "[0.04278192 0.15675087 0.31460557 0.12164441 0.47034844 0.35012207\n",
      " 0.23178169 0.38786862 0.66584402 0.78403335 0.39723473 0.51572475\n",
      " 0.58545377 0.97230613 0.51486535 0.38258616 0.70745066 0.26818617\n",
      " 0.1304484 ]\n",
      "[0.04278192 0.15675087 0.31460557 4.         4.         0.35012207\n",
      " 0.23178169 0.38786862 0.66584402 0.78403335 0.39723473 0.51572475\n",
      " 0.58545377 0.97230613 0.51486535 0.38258616 0.70745066 0.26818617\n",
      " 0.1304484 ]\n",
      "[0.04278192 0.15675087 0.31460557 1.         2.         0.35012207\n",
      " 0.23178169 0.38786862 0.66584402 0.78403335 0.39723473 0.51572475\n",
      " 0.58545377 0.97230613 0.51486535 0.38258616 0.70745066 0.26818617\n",
      " 0.1304484 ]\n"
     ]
    }
   ],
   "source": [
    "print(rand_vec)\n",
    "rand_vec[3:5]=4\n",
    "print(rand_vec)\n",
    "rand_vec[3:5]=[1,2]\n",
    "print(rand_vec)"
   ]
  },
  {
   "cell_type": "code",
   "execution_count": 20,
   "metadata": {},
   "outputs": [
    {
     "name": "stdout",
     "output_type": "stream",
     "text": [
      "[[0.9045267  0.         0.         0.1744607  0.29687128]\n",
      " [0.15837509 0.         0.         0.61128597 0.06549397]\n",
      " [0.5476382  0.86092927 0.69422066 0.15401718 0.40937594]\n",
      " [0.64204066 0.71076196 0.18961376 0.8668974  0.31409636]\n",
      " [0.43440648 0.53064123 0.48678333 0.66889894 0.95454982]]\n"
     ]
    }
   ],
   "source": [
    "rand_mat[0:2,1:3]=0\n",
    "print(rand_mat)     "
   ]
  },
  {
   "cell_type": "code",
   "execution_count": 40,
   "metadata": {},
   "outputs": [],
   "source": [
    "##freak thing in python\n"
   ]
  },
  {
   "cell_type": "code",
   "execution_count": 28,
   "metadata": {},
   "outputs": [
    {
     "name": "stdout",
     "output_type": "stream",
     "text": [
      "[[3. 3. 3.]\n",
      " [3. 3. 3.]]\n",
      "[[3. 3. 3.]\n",
      " [3. 3. 3.]]\n",
      "[[3.         3.         3.         0.58741965 0.47440121]\n",
      " [3.         3.         3.         0.87740293 0.01655437]\n",
      " [0.14187871 0.82828851 0.05970947 0.39551558 0.86001023]\n",
      " [0.02613585 0.01524446 0.70835309 0.50110304 0.54736265]\n",
      " [0.23306936 0.1304634  0.35030894 0.34040948 0.56888556]]\n"
     ]
    }
   ],
   "source": [
    "sub_mat=rand_mat[0:2,0:3]\n",
    "print(sub_mat)\n",
    "sub_mat[:]=3\n",
    "print(sub_mat)\n",
    "print(rand_mat)\n"
   ]
  },
  {
   "cell_type": "code",
   "execution_count": 21,
   "metadata": {},
   "outputs": [
    {
     "name": "stdout",
     "output_type": "stream",
     "text": [
      "[[0.9045267  0.         0.        ]\n",
      " [0.15837509 0.         0.        ]]\n",
      "[[10. 10. 10.]\n",
      " [10. 10. 10.]]\n",
      "[[0.9045267  0.         0.         0.1744607  0.29687128]\n",
      " [0.15837509 0.         0.         0.61128597 0.06549397]\n",
      " [0.5476382  0.86092927 0.69422066 0.15401718 0.40937594]\n",
      " [0.64204066 0.71076196 0.18961376 0.8668974  0.31409636]\n",
      " [0.43440648 0.53064123 0.48678333 0.66889894 0.95454982]]\n"
     ]
    }
   ],
   "source": [
    "sub_mat2=rand_mat[0:2,0:3].copy()\n",
    "print(sub_mat2)\n",
    "sub_mat2[:]=10\n",
    "print(sub_mat2)\n",
    "print(rand_mat)"
   ]
  },
  {
   "cell_type": "code",
   "execution_count": 1,
   "metadata": {},
   "outputs": [],
   "source": [
    "#to access and change values using logicals\n"
   ]
  },
  {
   "cell_type": "code",
   "execution_count": 7,
   "metadata": {},
   "outputs": [
    {
     "name": "stdout",
     "output_type": "stream",
     "text": [
      "[ 0.08971419 -0.22853592  0.99131926 -1.2318888   0.71217311  1.04385203\n",
      " -0.21187764 -0.27829534  0.09444672 -0.7014236   0.55912395  0.19308964\n",
      "  1.33386355  0.14421151  0.36183817]\n",
      "[ True False  True False  True  True False False  True False  True  True\n",
      "  True  True  True]\n",
      "[0.08971419 0.99131926 0.71217311 1.04385203 0.09444672 0.55912395\n",
      " 0.19308964 1.33386355 0.14421151 0.36183817]\n"
     ]
    }
   ],
   "source": [
    "import numpy as np\n",
    "rand_vec=np.random.randn(15)\n",
    "print(rand_vec)\n",
    "print(rand_vec>0)\n",
    "print(rand_vec[rand_vec>0])\n",
    "\n"
   ]
  },
  {
   "cell_type": "code",
   "execution_count": 12,
   "metadata": {},
   "outputs": [
    {
     "name": "stdout",
     "output_type": "stream",
     "text": [
      "[[-0.16567619  1.06032618  1.43100768 -0.34504666  0.88592067]\n",
      " [ 0.79121544 -2.19676803 -0.65639184  1.19563197  0.1229657 ]\n",
      " [ 0.46614783  0.18779361 -1.09615691 -0.01263526  0.85291724]\n",
      " [-1.22928448 -0.09750396  0.27820371  1.12581718  1.14558067]\n",
      " [ 0.73917312  0.54377685 -0.18245655  1.41787848 -0.09118284]\n",
      " [-0.86870089 -1.57944826  0.33627383  0.60951224 -0.31283863]\n",
      " [ 1.09467467 -0.44134089 -1.74467    -1.31304865 -0.83826641]]\n",
      "[[False  True  True False  True]\n",
      " [ True False False  True  True]\n",
      " [ True  True False False  True]\n",
      " [False False  True  True  True]\n",
      " [ True  True False  True False]\n",
      " [False False  True  True False]\n",
      " [ True False False False False]]\n",
      "[1.06032618 1.43100768 0.88592067 0.79121544 1.19563197 0.1229657\n",
      " 0.46614783 0.18779361 0.85291724 0.27820371 1.12581718 1.14558067\n",
      " 0.73917312 0.54377685 1.41787848 0.33627383 0.60951224 1.09467467]\n"
     ]
    }
   ],
   "source": [
    "rand_mat2=np.random.randn(7,5)\n",
    "print(rand_mat2)\n",
    "print(rand_mat2>0)\n",
    "print(rand_mat2[rand_mat2>0])"
   ]
  },
  {
   "cell_type": "code",
   "execution_count": 14,
   "metadata": {},
   "outputs": [
    {
     "name": "stdout",
     "output_type": "stream",
     "text": [
      "[ 0.08971419 -0.22853592  0.99131926 -1.2318888   0.71217311  1.04385203\n",
      " -0.21187764 -0.27829534  0.09444672 -0.7014236   0.55912395  0.19308964\n",
      "  1.33386355  0.14421151  0.36183817]\n",
      "\n",
      "[ 5.         -0.22853592  5.         -1.2318888   5.          5.\n",
      " -0.21187764 -0.27829534  5.         -0.7014236   5.          5.\n",
      "  5.          5.          5.        ]\n"
     ]
    }
   ],
   "source": [
    "print(rand_vec)\n",
    "print('')\n",
    "rand_vec[rand_vec>0]=5\n",
    "print(rand_vec)"
   ]
  },
  {
   "cell_type": "code",
   "execution_count": 15,
   "metadata": {},
   "outputs": [],
   "source": [
    "np.save('saved_file_name',rand_mat2)"
   ]
  },
  {
   "cell_type": "code",
   "execution_count": 22,
   "metadata": {},
   "outputs": [],
   "source": [
    "np.savez('zipped_file_name',rand_mat=rand_mat,rand_mat2=rand_mat2)"
   ]
  },
  {
   "cell_type": "code",
   "execution_count": 24,
   "metadata": {},
   "outputs": [
    {
     "name": "stdout",
     "output_type": "stream",
     "text": [
      "[[-0.16567619  1.06032618  1.43100768 -0.34504666  0.88592067]\n",
      " [ 0.79121544 -2.19676803 -0.65639184  1.19563197  0.1229657 ]\n",
      " [ 0.46614783  0.18779361 -1.09615691 -0.01263526  0.85291724]\n",
      " [-1.22928448 -0.09750396  0.27820371  1.12581718  1.14558067]\n",
      " [ 0.73917312  0.54377685 -0.18245655  1.41787848 -0.09118284]\n",
      " [-0.86870089 -1.57944826  0.33627383  0.60951224 -0.31283863]\n",
      " [ 1.09467467 -0.44134089 -1.74467    -1.31304865 -0.83826641]]\n"
     ]
    }
   ],
   "source": [
    "load_vec=np.load('saved_file_name.npy')\n",
    "print(load_vec)"
   ]
  },
  {
   "cell_type": "code",
   "execution_count": 26,
   "metadata": {},
   "outputs": [
    {
     "name": "stdout",
     "output_type": "stream",
     "text": [
      "<numpy.lib.npyio.NpzFile object at 0x7f5c4c75eee0>\n"
     ]
    }
   ],
   "source": [
    "load_zip=np.load('zipped_file_name.npz')\n",
    "print(load_zip)"
   ]
  },
  {
   "cell_type": "code",
   "execution_count": 27,
   "metadata": {},
   "outputs": [
    {
     "name": "stdout",
     "output_type": "stream",
     "text": [
      "[[0.9045267  0.         0.         0.1744607  0.29687128]\n",
      " [0.15837509 0.         0.         0.61128597 0.06549397]\n",
      " [0.5476382  0.86092927 0.69422066 0.15401718 0.40937594]\n",
      " [0.64204066 0.71076196 0.18961376 0.8668974  0.31409636]\n",
      " [0.43440648 0.53064123 0.48678333 0.66889894 0.95454982]]\n"
     ]
    }
   ],
   "source": [
    "new_array=load_zip['rand_mat']\n",
    "print(new_array)"
   ]
  },
  {
   "cell_type": "code",
   "execution_count": 32,
   "metadata": {},
   "outputs": [
    {
     "name": "stdout",
     "output_type": "stream",
     "text": [
      "[[-0.16567619  1.06032618  1.43100768 -0.34504666  0.88592067]\n",
      " [ 0.79121544 -2.19676803 -0.65639184  1.19563197  0.1229657 ]\n",
      " [ 0.46614783  0.18779361 -1.09615691 -0.01263526  0.85291724]\n",
      " [-1.22928448 -0.09750396  0.27820371  1.12581718  1.14558067]\n",
      " [ 0.73917312  0.54377685 -0.18245655  1.41787848 -0.09118284]\n",
      " [-0.86870089 -1.57944826  0.33627383  0.60951224 -0.31283863]\n",
      " [ 1.09467467 -0.44134089 -1.74467    -1.31304865 -0.83826641]]\n"
     ]
    }
   ],
   "source": [
    "new_array2=load_zip['rand_mat2']\n",
    "print(new_array2)"
   ]
  },
  {
   "cell_type": "code",
   "execution_count": 33,
   "metadata": {},
   "outputs": [
    {
     "name": "stdout",
     "output_type": "stream",
     "text": [
      "[[0.9045267  0.         0.         0.1744607  0.29687128]\n",
      " [0.15837509 0.         0.         0.61128597 0.06549397]\n",
      " [0.5476382  0.86092927 0.69422066 0.15401718 0.40937594]\n",
      " [0.64204066 0.71076196 0.18961376 0.8668974  0.31409636]\n",
      " [0.43440648 0.53064123 0.48678333 0.66889894 0.95454982]]\n"
     ]
    }
   ],
   "source": [
    "print(load_zip['rand_mat'])"
   ]
  },
  {
   "cell_type": "code",
   "execution_count": 35,
   "metadata": {},
   "outputs": [
    {
     "name": "stdout",
     "output_type": "stream",
     "text": [
      "[[-0.16567619  1.06032618  1.43100768 -0.34504666  0.88592067]\n",
      " [ 0.79121544 -2.19676803 -0.65639184  1.19563197  0.1229657 ]\n",
      " [ 0.46614783  0.18779361 -1.09615691 -0.01263526  0.85291724]\n",
      " [-1.22928448 -0.09750396  0.27820371  1.12581718  1.14558067]\n",
      " [ 0.73917312  0.54377685 -0.18245655  1.41787848 -0.09118284]\n",
      " [-0.86870089 -1.57944826  0.33627383  0.60951224 -0.31283863]\n",
      " [ 1.09467467 -0.44134089 -1.74467    -1.31304865 -0.83826641]]\n"
     ]
    }
   ],
   "source": [
    "print(load_zip['rand_mat2'])"
   ]
  },
  {
   "cell_type": "code",
   "execution_count": 36,
   "metadata": {},
   "outputs": [],
   "source": [
    "#to save/load ot as text file but only single array at a time\n"
   ]
  },
  {
   "cell_type": "code",
   "execution_count": 39,
   "metadata": {},
   "outputs": [
    {
     "name": "stdout",
     "output_type": "stream",
     "text": [
      "[[0.9045267  0.         0.         0.1744607  0.29687128]\n",
      " [0.15837509 0.         0.         0.61128597 0.06549397]\n",
      " [0.5476382  0.86092927 0.69422066 0.15401718 0.40937594]\n",
      " [0.64204066 0.71076196 0.18961376 0.8668974  0.31409636]\n",
      " [0.43440648 0.53064123 0.48678333 0.66889894 0.95454982]]\n",
      "[[0.9045267  0.         0.         0.1744607  0.29687128]\n",
      " [0.15837509 0.         0.         0.61128597 0.06549397]\n",
      " [0.5476382  0.86092927 0.69422066 0.15401718 0.40937594]\n",
      " [0.64204066 0.71076196 0.18961376 0.8668974  0.31409636]\n",
      " [0.43440648 0.53064123 0.48678333 0.66889894 0.95454982]]\n"
     ]
    }
   ],
   "source": [
    "np.savetxt('text_file_name.txt',rand_mat,delimiter=',')\n",
    "rand_mat_txt=np.loadtxt('text_file_name.txt',delimiter=',')\n",
    "print(rand_mat)#orginal\n",
    "print(rand_mat_txt)#loaded "
   ]
  },
  {
   "cell_type": "markdown",
   "metadata": {},
   "source": [
    "##Pandas\n"
   ]
  },
  {
   "cell_type": "code",
   "execution_count": 41,
   "metadata": {},
   "outputs": [],
   "source": [
    "import pandas as pd\n",
    "import numpy as np\n",
    "\n"
   ]
  },
  {
   "cell_type": "code",
   "execution_count": 45,
   "metadata": {},
   "outputs": [],
   "source": [
    "mylist=[1.1,2.2,3.3,4.4,5.5]\n",
    "myarray=np.array(mylist)\n"
   ]
  },
  {
   "cell_type": "code",
   "execution_count": 49,
   "metadata": {},
   "outputs": [
    {
     "name": "stdout",
     "output_type": "stream",
     "text": [
      "0    1.1\n",
      "1    2.2\n",
      "2    3.3\n",
      "3    4.4\n",
      "4    5.5\n",
      "dtype: float64\n"
     ]
    }
   ],
   "source": [
    "myseries1=pd.Series(mylist)\n",
    "print(myseries1)"
   ]
  },
  {
   "cell_type": "code",
   "execution_count": 50,
   "metadata": {},
   "outputs": [
    {
     "name": "stdout",
     "output_type": "stream",
     "text": [
      "0    1.1\n",
      "1    2.2\n",
      "2    3.3\n",
      "3    4.4\n",
      "4    5.5\n",
      "dtype: float64\n"
     ]
    }
   ],
   "source": [
    "myseries2=pd.Series(data=myarray)\n",
    "print(myseries2)"
   ]
  },
  {
   "cell_type": "code",
   "execution_count": 51,
   "metadata": {},
   "outputs": [],
   "source": [
    "#to acces the indiviual entries it is same as list and numpy"
   ]
  },
  {
   "cell_type": "code",
   "execution_count": 53,
   "metadata": {},
   "outputs": [
    {
     "name": "stdout",
     "output_type": "stream",
     "text": [
      "3.3\n"
     ]
    }
   ],
   "source": [
    "print(myseries2[2])"
   ]
  },
  {
   "cell_type": "code",
   "execution_count": 79,
   "metadata": {},
   "outputs": [
    {
     "name": "stdout",
     "output_type": "stream",
     "text": [
      "first     1.1\n",
      "second    2.2\n",
      "third     3.3\n",
      "fourth    4.4\n",
      "fifth     5.5\n",
      "dtype: float64\n"
     ]
    }
   ],
   "source": [
    "mylabels=['first','second','third','fourth','fifth']\n",
    "mylabelsup=['numbers']\n",
    "myseries3=pd.Series(data=myarray,index=mylabels)\n",
    "print(myseries3)          \n",
    "          "
   ]
  },
  {
   "cell_type": "code",
   "execution_count": 60,
   "metadata": {},
   "outputs": [
    {
     "name": "stdout",
     "output_type": "stream",
     "text": [
      "first     1.1\n",
      "second    2.2\n",
      "third     3.3\n",
      "fourth    4.4\n",
      "fifth     5.5\n",
      "dtype: float64\n"
     ]
    }
   ],
   "source": [
    "myseries4=pd.Series(myarray,mylabels)\n",
    "print(myseries4)"
   ]
  },
  {
   "cell_type": "code",
   "execution_count": 62,
   "metadata": {},
   "outputs": [
    {
     "name": "stdout",
     "output_type": "stream",
     "text": [
      "5.5\n"
     ]
    }
   ],
   "source": [
    "print(myseries4['fifth'])"
   ]
  },
  {
   "cell_type": "code",
   "execution_count": 69,
   "metadata": {},
   "outputs": [
    {
     "name": "stdout",
     "output_type": "stream",
     "text": [
      "first     5.60\n",
      "third     7.80\n",
      "fourth    5.68\n",
      "fifth     8.50\n",
      "sixth     9.50\n",
      "dtype: float64\n",
      "fifth     14.00\n",
      "first      6.70\n",
      "fourth    10.08\n",
      "second      NaN\n",
      "sixth       NaN\n",
      "third     11.10\n",
      "dtype: float64\n"
     ]
    }
   ],
   "source": [
    "myseries5=pd.Series([5.6,7.8,5.68,8.5,9.5],['first','third','fourth','fifth','sixth'])\n",
    "print(myseries5)\n",
    "print(myseries4+myseries5)"
   ]
  },
  {
   "cell_type": "code",
   "execution_count": 71,
   "metadata": {},
   "outputs": [
    {
     "data": {
      "text/html": [
       "<div>\n",
       "<style scoped>\n",
       "    .dataframe tbody tr th:only-of-type {\n",
       "        vertical-align: middle;\n",
       "    }\n",
       "\n",
       "    .dataframe tbody tr th {\n",
       "        vertical-align: top;\n",
       "    }\n",
       "\n",
       "    .dataframe thead th {\n",
       "        text-align: right;\n",
       "    }\n",
       "</style>\n",
       "<table border=\"1\" class=\"dataframe\">\n",
       "  <thead>\n",
       "    <tr style=\"text-align: right;\">\n",
       "      <th></th>\n",
       "      <th>0</th>\n",
       "      <th>1</th>\n",
       "    </tr>\n",
       "  </thead>\n",
       "  <tbody>\n",
       "    <tr>\n",
       "      <th>first</th>\n",
       "      <td>1.1</td>\n",
       "      <td>5.60</td>\n",
       "    </tr>\n",
       "    <tr>\n",
       "      <th>second</th>\n",
       "      <td>2.2</td>\n",
       "      <td>NaN</td>\n",
       "    </tr>\n",
       "    <tr>\n",
       "      <th>third</th>\n",
       "      <td>3.3</td>\n",
       "      <td>7.80</td>\n",
       "    </tr>\n",
       "    <tr>\n",
       "      <th>fourth</th>\n",
       "      <td>4.4</td>\n",
       "      <td>5.68</td>\n",
       "    </tr>\n",
       "    <tr>\n",
       "      <th>fifth</th>\n",
       "      <td>5.5</td>\n",
       "      <td>8.50</td>\n",
       "    </tr>\n",
       "    <tr>\n",
       "      <th>sixth</th>\n",
       "      <td>NaN</td>\n",
       "      <td>9.50</td>\n",
       "    </tr>\n",
       "  </tbody>\n",
       "</table>\n",
       "</div>"
      ],
      "text/plain": [
       "          0     1\n",
       "first   1.1  5.60\n",
       "second  2.2   NaN\n",
       "third   3.3  7.80\n",
       "fourth  4.4  5.68\n",
       "fifth   5.5  8.50\n",
       "sixth   NaN  9.50"
      ]
     },
     "execution_count": 71,
     "metadata": {},
     "output_type": "execute_result"
    }
   ],
   "source": [
    "df1=pd.concat([myseries4,myseries5],axis=1,sort=False)\n",
    "df1"
   ]
  },
  {
   "cell_type": "code",
   "execution_count": 74,
   "metadata": {},
   "outputs": [
    {
     "data": {
      "text/html": [
       "<div>\n",
       "<style scoped>\n",
       "    .dataframe tbody tr th:only-of-type {\n",
       "        vertical-align: middle;\n",
       "    }\n",
       "\n",
       "    .dataframe tbody tr th {\n",
       "        vertical-align: top;\n",
       "    }\n",
       "\n",
       "    .dataframe thead th {\n",
       "        text-align: right;\n",
       "    }\n",
       "</style>\n",
       "<table border=\"1\" class=\"dataframe\">\n",
       "  <thead>\n",
       "    <tr style=\"text-align: right;\">\n",
       "      <th></th>\n",
       "      <th>0</th>\n",
       "      <th>1</th>\n",
       "      <th>2</th>\n",
       "      <th>3</th>\n",
       "      <th>4</th>\n",
       "    </tr>\n",
       "  </thead>\n",
       "  <tbody>\n",
       "    <tr>\n",
       "      <th>0</th>\n",
       "      <td>1.792475</td>\n",
       "      <td>-0.789895</td>\n",
       "      <td>2.231268</td>\n",
       "      <td>-2.250459</td>\n",
       "      <td>-0.652503</td>\n",
       "    </tr>\n",
       "    <tr>\n",
       "      <th>1</th>\n",
       "      <td>0.346874</td>\n",
       "      <td>-0.770591</td>\n",
       "      <td>-1.221765</td>\n",
       "      <td>1.050765</td>\n",
       "      <td>0.039116</td>\n",
       "    </tr>\n",
       "    <tr>\n",
       "      <th>2</th>\n",
       "      <td>-1.076664</td>\n",
       "      <td>0.485094</td>\n",
       "      <td>-0.917030</td>\n",
       "      <td>-0.622374</td>\n",
       "      <td>-0.909040</td>\n",
       "    </tr>\n",
       "    <tr>\n",
       "      <th>3</th>\n",
       "      <td>0.631138</td>\n",
       "      <td>0.195610</td>\n",
       "      <td>-0.665160</td>\n",
       "      <td>-0.557017</td>\n",
       "      <td>0.156356</td>\n",
       "    </tr>\n",
       "    <tr>\n",
       "      <th>4</th>\n",
       "      <td>0.849333</td>\n",
       "      <td>0.228235</td>\n",
       "      <td>0.544263</td>\n",
       "      <td>-2.076792</td>\n",
       "      <td>0.222703</td>\n",
       "    </tr>\n",
       "  </tbody>\n",
       "</table>\n",
       "</div>"
      ],
      "text/plain": [
       "          0         1         2         3         4\n",
       "0  1.792475 -0.789895  2.231268 -2.250459 -0.652503\n",
       "1  0.346874 -0.770591 -1.221765  1.050765  0.039116\n",
       "2 -1.076664  0.485094 -0.917030 -0.622374 -0.909040\n",
       "3  0.631138  0.195610 -0.665160 -0.557017  0.156356\n",
       "4  0.849333  0.228235  0.544263 -2.076792  0.222703"
      ]
     },
     "execution_count": 74,
     "metadata": {},
     "output_type": "execute_result"
    }
   ],
   "source": [
    "df2=pd.DataFrame(np.random.randn(5,5))\n",
    "df2"
   ]
  },
  {
   "cell_type": "code",
   "execution_count": 83,
   "metadata": {
    "scrolled": true
   },
   "outputs": [
    {
     "data": {
      "text/html": [
       "<div>\n",
       "<style scoped>\n",
       "    .dataframe tbody tr th:only-of-type {\n",
       "        vertical-align: middle;\n",
       "    }\n",
       "\n",
       "    .dataframe tbody tr th {\n",
       "        vertical-align: top;\n",
       "    }\n",
       "\n",
       "    .dataframe thead th {\n",
       "        text-align: right;\n",
       "    }\n",
       "</style>\n",
       "<table border=\"1\" class=\"dataframe\">\n",
       "  <thead>\n",
       "    <tr style=\"text-align: right;\">\n",
       "      <th></th>\n",
       "      <th>first col</th>\n",
       "      <th>sec col</th>\n",
       "      <th>thr col</th>\n",
       "      <th>for col</th>\n",
       "      <th>fif col</th>\n",
       "    </tr>\n",
       "  </thead>\n",
       "  <tbody>\n",
       "    <tr>\n",
       "      <th>first row</th>\n",
       "      <td>0.500967</td>\n",
       "      <td>-0.138586</td>\n",
       "      <td>-0.063294</td>\n",
       "      <td>0.564966</td>\n",
       "      <td>-0.264764</td>\n",
       "    </tr>\n",
       "    <tr>\n",
       "      <th>sec row</th>\n",
       "      <td>-0.696496</td>\n",
       "      <td>-0.214863</td>\n",
       "      <td>-0.941346</td>\n",
       "      <td>2.304170</td>\n",
       "      <td>-0.265284</td>\n",
       "    </tr>\n",
       "    <tr>\n",
       "      <th>thr row</th>\n",
       "      <td>-2.426288</td>\n",
       "      <td>-1.586326</td>\n",
       "      <td>-1.079067</td>\n",
       "      <td>2.338292</td>\n",
       "      <td>1.274975</td>\n",
       "    </tr>\n",
       "    <tr>\n",
       "      <th>for row</th>\n",
       "      <td>0.162268</td>\n",
       "      <td>0.620766</td>\n",
       "      <td>0.514160</td>\n",
       "      <td>-0.017655</td>\n",
       "      <td>-1.486490</td>\n",
       "    </tr>\n",
       "    <tr>\n",
       "      <th>fifth row</th>\n",
       "      <td>2.294349</td>\n",
       "      <td>0.327749</td>\n",
       "      <td>-0.545991</td>\n",
       "      <td>2.078547</td>\n",
       "      <td>-0.670667</td>\n",
       "    </tr>\n",
       "  </tbody>\n",
       "</table>\n",
       "</div>"
      ],
      "text/plain": [
       "           first col   sec col   thr col   for col   fif col\n",
       "first row   0.500967 -0.138586 -0.063294  0.564966 -0.264764\n",
       "sec row    -0.696496 -0.214863 -0.941346  2.304170 -0.265284\n",
       "thr row    -2.426288 -1.586326 -1.079067  2.338292  1.274975\n",
       "for row     0.162268  0.620766  0.514160 -0.017655 -1.486490\n",
       "fifth row   2.294349  0.327749 -0.545991  2.078547 -0.670667"
      ]
     },
     "execution_count": 83,
     "metadata": {},
     "output_type": "execute_result"
    }
   ],
   "source": [
    "df3=pd.DataFrame(np.random.randn(5,5),index=['first row','sec row','thr row','for row','fifth row'],columns=['first col','sec col','thr col','for col','fif col'])\n",
    "df3\n"
   ]
  },
  {
   "cell_type": "code",
   "execution_count": 88,
   "metadata": {},
   "outputs": [
    {
     "name": "stdout",
     "output_type": "stream",
     "text": [
      "first row   -0.138586\n",
      "sec row     -0.214863\n",
      "thr row     -1.586326\n",
      "for row      0.620766\n",
      "fifth row    0.327749\n",
      "Name: sec col, dtype: float64\n",
      "\n"
     ]
    },
    {
     "data": {
      "text/html": [
       "<div>\n",
       "<style scoped>\n",
       "    .dataframe tbody tr th:only-of-type {\n",
       "        vertical-align: middle;\n",
       "    }\n",
       "\n",
       "    .dataframe tbody tr th {\n",
       "        vertical-align: top;\n",
       "    }\n",
       "\n",
       "    .dataframe thead th {\n",
       "        text-align: right;\n",
       "    }\n",
       "</style>\n",
       "<table border=\"1\" class=\"dataframe\">\n",
       "  <thead>\n",
       "    <tr style=\"text-align: right;\">\n",
       "      <th></th>\n",
       "      <th>sec col</th>\n",
       "      <th>thr col</th>\n",
       "    </tr>\n",
       "  </thead>\n",
       "  <tbody>\n",
       "    <tr>\n",
       "      <th>first row</th>\n",
       "      <td>-0.138586</td>\n",
       "      <td>-0.063294</td>\n",
       "    </tr>\n",
       "    <tr>\n",
       "      <th>sec row</th>\n",
       "      <td>-0.214863</td>\n",
       "      <td>-0.941346</td>\n",
       "    </tr>\n",
       "    <tr>\n",
       "      <th>thr row</th>\n",
       "      <td>-1.586326</td>\n",
       "      <td>-1.079067</td>\n",
       "    </tr>\n",
       "    <tr>\n",
       "      <th>for row</th>\n",
       "      <td>0.620766</td>\n",
       "      <td>0.514160</td>\n",
       "    </tr>\n",
       "    <tr>\n",
       "      <th>fifth row</th>\n",
       "      <td>0.327749</td>\n",
       "      <td>-0.545991</td>\n",
       "    </tr>\n",
       "  </tbody>\n",
       "</table>\n",
       "</div>"
      ],
      "text/plain": [
       "            sec col   thr col\n",
       "first row -0.138586 -0.063294\n",
       "sec row   -0.214863 -0.941346\n",
       "thr row   -1.586326 -1.079067\n",
       "for row    0.620766  0.514160\n",
       "fifth row  0.327749 -0.545991"
      ]
     },
     "execution_count": 88,
     "metadata": {},
     "output_type": "execute_result"
    }
   ],
   "source": [
    "print(df3['sec col'])\n",
    "print(\"\")\n",
    "df3[['sec col','thr col']]\n"
   ]
  },
  {
   "cell_type": "code",
   "execution_count": 89,
   "metadata": {},
   "outputs": [
    {
     "data": {
      "text/plain": [
       "first row   -0.138586\n",
       "sec row     -0.214863\n",
       "thr row     -1.586326\n",
       "for row      0.620766\n",
       "fifth row    0.327749\n",
       "Name: sec col, dtype: float64"
      ]
     },
     "execution_count": 89,
     "metadata": {},
     "output_type": "execute_result"
    }
   ],
   "source": [
    "df3['sec col']"
   ]
  },
  {
   "cell_type": "code",
   "execution_count": 90,
   "metadata": {},
   "outputs": [
    {
     "data": {
      "text/plain": [
       "first col    0.162268\n",
       "sec col      0.620766\n",
       "thr col      0.514160\n",
       "for col     -0.017655\n",
       "fif col     -1.486490\n",
       "Name: for row, dtype: float64"
      ]
     },
     "execution_count": 90,
     "metadata": {},
     "output_type": "execute_result"
    }
   ],
   "source": [
    "df3.loc['for row']"
   ]
  },
  {
   "cell_type": "code",
   "execution_count": 92,
   "metadata": {},
   "outputs": [
    {
     "data": {
      "text/plain": [
       "first col   -2.426288\n",
       "sec col     -1.586326\n",
       "thr col     -1.079067\n",
       "for col      2.338292\n",
       "fif col      1.274975\n",
       "Name: thr row, dtype: float64"
      ]
     },
     "execution_count": 92,
     "metadata": {},
     "output_type": "execute_result"
    }
   ],
   "source": [
    "df3.iloc[2]"
   ]
  },
  {
   "cell_type": "code",
   "execution_count": 93,
   "metadata": {},
   "outputs": [
    {
     "data": {
      "text/html": [
       "<div>\n",
       "<style scoped>\n",
       "    .dataframe tbody tr th:only-of-type {\n",
       "        vertical-align: middle;\n",
       "    }\n",
       "\n",
       "    .dataframe tbody tr th {\n",
       "        vertical-align: top;\n",
       "    }\n",
       "\n",
       "    .dataframe thead th {\n",
       "        text-align: right;\n",
       "    }\n",
       "</style>\n",
       "<table border=\"1\" class=\"dataframe\">\n",
       "  <thead>\n",
       "    <tr style=\"text-align: right;\">\n",
       "      <th></th>\n",
       "      <th>sec col</th>\n",
       "      <th>thr col</th>\n",
       "    </tr>\n",
       "  </thead>\n",
       "  <tbody>\n",
       "    <tr>\n",
       "      <th>first row</th>\n",
       "      <td>-0.138586</td>\n",
       "      <td>-0.063294</td>\n",
       "    </tr>\n",
       "    <tr>\n",
       "      <th>sec row</th>\n",
       "      <td>-0.214863</td>\n",
       "      <td>-0.941346</td>\n",
       "    </tr>\n",
       "  </tbody>\n",
       "</table>\n",
       "</div>"
      ],
      "text/plain": [
       "            sec col   thr col\n",
       "first row -0.138586 -0.063294\n",
       "sec row   -0.214863 -0.941346"
      ]
     },
     "execution_count": 93,
     "metadata": {},
     "output_type": "execute_result"
    }
   ],
   "source": [
    "df3.loc[['first row','sec row'],['sec col','thr col']]"
   ]
  },
  {
   "cell_type": "code",
   "execution_count": 94,
   "metadata": {},
   "outputs": [
    {
     "data": {
      "text/html": [
       "<div>\n",
       "<style scoped>\n",
       "    .dataframe tbody tr th:only-of-type {\n",
       "        vertical-align: middle;\n",
       "    }\n",
       "\n",
       "    .dataframe tbody tr th {\n",
       "        vertical-align: top;\n",
       "    }\n",
       "\n",
       "    .dataframe thead th {\n",
       "        text-align: right;\n",
       "    }\n",
       "</style>\n",
       "<table border=\"1\" class=\"dataframe\">\n",
       "  <thead>\n",
       "    <tr style=\"text-align: right;\">\n",
       "      <th></th>\n",
       "      <th>first col</th>\n",
       "      <th>sec col</th>\n",
       "      <th>thr col</th>\n",
       "      <th>for col</th>\n",
       "      <th>fif col</th>\n",
       "    </tr>\n",
       "  </thead>\n",
       "  <tbody>\n",
       "    <tr>\n",
       "      <th>first row</th>\n",
       "      <td>True</td>\n",
       "      <td>False</td>\n",
       "      <td>False</td>\n",
       "      <td>True</td>\n",
       "      <td>False</td>\n",
       "    </tr>\n",
       "    <tr>\n",
       "      <th>sec row</th>\n",
       "      <td>False</td>\n",
       "      <td>False</td>\n",
       "      <td>False</td>\n",
       "      <td>True</td>\n",
       "      <td>False</td>\n",
       "    </tr>\n",
       "    <tr>\n",
       "      <th>thr row</th>\n",
       "      <td>False</td>\n",
       "      <td>False</td>\n",
       "      <td>False</td>\n",
       "      <td>True</td>\n",
       "      <td>True</td>\n",
       "    </tr>\n",
       "    <tr>\n",
       "      <th>for row</th>\n",
       "      <td>True</td>\n",
       "      <td>True</td>\n",
       "      <td>True</td>\n",
       "      <td>False</td>\n",
       "      <td>False</td>\n",
       "    </tr>\n",
       "    <tr>\n",
       "      <th>fifth row</th>\n",
       "      <td>True</td>\n",
       "      <td>True</td>\n",
       "      <td>False</td>\n",
       "      <td>True</td>\n",
       "      <td>False</td>\n",
       "    </tr>\n",
       "  </tbody>\n",
       "</table>\n",
       "</div>"
      ],
      "text/plain": [
       "           first col  sec col  thr col  for col  fif col\n",
       "first row       True    False    False     True    False\n",
       "sec row        False    False    False     True    False\n",
       "thr row        False    False    False     True     True\n",
       "for row         True     True     True    False    False\n",
       "fifth row       True     True    False     True    False"
      ]
     },
     "execution_count": 94,
     "metadata": {},
     "output_type": "execute_result"
    }
   ],
   "source": [
    "df3>0\n"
   ]
  },
  {
   "cell_type": "code",
   "execution_count": 95,
   "metadata": {},
   "outputs": [
    {
     "name": "stdout",
     "output_type": "stream",
     "text": [
      "           first col   sec col  thr col   for col   fif col\n",
      "first row   0.500967       NaN      NaN  0.564966       NaN\n",
      "sec row          NaN       NaN      NaN  2.304170       NaN\n",
      "thr row          NaN       NaN      NaN  2.338292  1.274975\n",
      "for row     0.162268  0.620766  0.51416       NaN       NaN\n",
      "fifth row   2.294349  0.327749      NaN  2.078547       NaN\n"
     ]
    }
   ],
   "source": [
    "print(df3[df3>0])"
   ]
  },
  {
   "cell_type": "code",
   "execution_count": 99,
   "metadata": {},
   "outputs": [
    {
     "data": {
      "text/html": [
       "<div>\n",
       "<style scoped>\n",
       "    .dataframe tbody tr th:only-of-type {\n",
       "        vertical-align: middle;\n",
       "    }\n",
       "\n",
       "    .dataframe tbody tr th {\n",
       "        vertical-align: top;\n",
       "    }\n",
       "\n",
       "    .dataframe thead th {\n",
       "        text-align: right;\n",
       "    }\n",
       "</style>\n",
       "<table border=\"1\" class=\"dataframe\">\n",
       "  <thead>\n",
       "    <tr style=\"text-align: right;\">\n",
       "      <th></th>\n",
       "      <th>first col</th>\n",
       "      <th>sec col</th>\n",
       "      <th>thr col</th>\n",
       "      <th>for col</th>\n",
       "      <th>fif col</th>\n",
       "      <th>sixth col</th>\n",
       "    </tr>\n",
       "  </thead>\n",
       "  <tbody>\n",
       "    <tr>\n",
       "      <th>first row</th>\n",
       "      <td>0.500967</td>\n",
       "      <td>-0.138586</td>\n",
       "      <td>-0.063294</td>\n",
       "      <td>0.564966</td>\n",
       "      <td>0.247865</td>\n",
       "      <td>0.721323</td>\n",
       "    </tr>\n",
       "    <tr>\n",
       "      <th>sec row</th>\n",
       "      <td>-0.696496</td>\n",
       "      <td>-0.214863</td>\n",
       "      <td>-0.941346</td>\n",
       "      <td>2.304170</td>\n",
       "      <td>0.561030</td>\n",
       "      <td>0.443285</td>\n",
       "    </tr>\n",
       "    <tr>\n",
       "      <th>thr row</th>\n",
       "      <td>-2.426288</td>\n",
       "      <td>-1.586326</td>\n",
       "      <td>-1.079067</td>\n",
       "      <td>2.338292</td>\n",
       "      <td>0.192024</td>\n",
       "      <td>0.439772</td>\n",
       "    </tr>\n",
       "    <tr>\n",
       "      <th>for row</th>\n",
       "      <td>0.162268</td>\n",
       "      <td>0.620766</td>\n",
       "      <td>0.514160</td>\n",
       "      <td>-0.017655</td>\n",
       "      <td>0.198702</td>\n",
       "      <td>0.154176</td>\n",
       "    </tr>\n",
       "    <tr>\n",
       "      <th>fifth row</th>\n",
       "      <td>2.294349</td>\n",
       "      <td>0.327749</td>\n",
       "      <td>-0.545991</td>\n",
       "      <td>2.078547</td>\n",
       "      <td>0.876584</td>\n",
       "      <td>0.461476</td>\n",
       "    </tr>\n",
       "  </tbody>\n",
       "</table>\n",
       "</div>"
      ],
      "text/plain": [
       "           first col   sec col   thr col   for col   fif col  sixth col\n",
       "first row   0.500967 -0.138586 -0.063294  0.564966  0.247865   0.721323\n",
       "sec row    -0.696496 -0.214863 -0.941346  2.304170  0.561030   0.443285\n",
       "thr row    -2.426288 -1.586326 -1.079067  2.338292  0.192024   0.439772\n",
       "for row     0.162268  0.620766  0.514160 -0.017655  0.198702   0.154176\n",
       "fifth row   2.294349  0.327749 -0.545991  2.078547  0.876584   0.461476"
      ]
     },
     "execution_count": 99,
     "metadata": {},
     "output_type": "execute_result"
    }
   ],
   "source": [
    "df3['sixth col']=np.random.rand(5,1)\n",
    "df3"
   ]
  },
  {
   "cell_type": "code",
   "execution_count": 102,
   "metadata": {},
   "outputs": [],
   "source": [
    "df3.drop('first col',axis=1,inplace=True)"
   ]
  },
  {
   "cell_type": "code",
   "execution_count": 104,
   "metadata": {},
   "outputs": [
    {
     "data": {
      "text/html": [
       "<div>\n",
       "<style scoped>\n",
       "    .dataframe tbody tr th:only-of-type {\n",
       "        vertical-align: middle;\n",
       "    }\n",
       "\n",
       "    .dataframe tbody tr th {\n",
       "        vertical-align: top;\n",
       "    }\n",
       "\n",
       "    .dataframe thead th {\n",
       "        text-align: right;\n",
       "    }\n",
       "</style>\n",
       "<table border=\"1\" class=\"dataframe\">\n",
       "  <thead>\n",
       "    <tr style=\"text-align: right;\">\n",
       "      <th></th>\n",
       "      <th>sec col</th>\n",
       "      <th>thr col</th>\n",
       "      <th>for col</th>\n",
       "      <th>fif col</th>\n",
       "      <th>sixth col</th>\n",
       "    </tr>\n",
       "  </thead>\n",
       "  <tbody>\n",
       "    <tr>\n",
       "      <th>first row</th>\n",
       "      <td>-0.138586</td>\n",
       "      <td>-0.063294</td>\n",
       "      <td>0.564966</td>\n",
       "      <td>0.247865</td>\n",
       "      <td>0.721323</td>\n",
       "    </tr>\n",
       "    <tr>\n",
       "      <th>sec row</th>\n",
       "      <td>-0.214863</td>\n",
       "      <td>-0.941346</td>\n",
       "      <td>2.304170</td>\n",
       "      <td>0.561030</td>\n",
       "      <td>0.443285</td>\n",
       "    </tr>\n",
       "    <tr>\n",
       "      <th>thr row</th>\n",
       "      <td>-1.586326</td>\n",
       "      <td>-1.079067</td>\n",
       "      <td>2.338292</td>\n",
       "      <td>0.192024</td>\n",
       "      <td>0.439772</td>\n",
       "    </tr>\n",
       "    <tr>\n",
       "      <th>for row</th>\n",
       "      <td>0.620766</td>\n",
       "      <td>0.514160</td>\n",
       "      <td>-0.017655</td>\n",
       "      <td>0.198702</td>\n",
       "      <td>0.154176</td>\n",
       "    </tr>\n",
       "    <tr>\n",
       "      <th>fifth row</th>\n",
       "      <td>0.327749</td>\n",
       "      <td>-0.545991</td>\n",
       "      <td>2.078547</td>\n",
       "      <td>0.876584</td>\n",
       "      <td>0.461476</td>\n",
       "    </tr>\n",
       "  </tbody>\n",
       "</table>\n",
       "</div>"
      ],
      "text/plain": [
       "            sec col   thr col   for col   fif col  sixth col\n",
       "first row -0.138586 -0.063294  0.564966  0.247865   0.721323\n",
       "sec row   -0.214863 -0.941346  2.304170  0.561030   0.443285\n",
       "thr row   -1.586326 -1.079067  2.338292  0.192024   0.439772\n",
       "for row    0.620766  0.514160 -0.017655  0.198702   0.154176\n",
       "fifth row  0.327749 -0.545991  2.078547  0.876584   0.461476"
      ]
     },
     "execution_count": 104,
     "metadata": {},
     "output_type": "execute_result"
    }
   ],
   "source": [
    "df3"
   ]
  },
  {
   "cell_type": "code",
   "execution_count": 105,
   "metadata": {},
   "outputs": [
    {
     "data": {
      "text/html": [
       "<div>\n",
       "<style scoped>\n",
       "    .dataframe tbody tr th:only-of-type {\n",
       "        vertical-align: middle;\n",
       "    }\n",
       "\n",
       "    .dataframe tbody tr th {\n",
       "        vertical-align: top;\n",
       "    }\n",
       "\n",
       "    .dataframe thead th {\n",
       "        text-align: right;\n",
       "    }\n",
       "</style>\n",
       "<table border=\"1\" class=\"dataframe\">\n",
       "  <thead>\n",
       "    <tr style=\"text-align: right;\">\n",
       "      <th></th>\n",
       "      <th>thr col</th>\n",
       "      <th>for col</th>\n",
       "      <th>fif col</th>\n",
       "      <th>sixth col</th>\n",
       "    </tr>\n",
       "  </thead>\n",
       "  <tbody>\n",
       "    <tr>\n",
       "      <th>first row</th>\n",
       "      <td>-0.063294</td>\n",
       "      <td>0.564966</td>\n",
       "      <td>0.247865</td>\n",
       "      <td>0.721323</td>\n",
       "    </tr>\n",
       "    <tr>\n",
       "      <th>sec row</th>\n",
       "      <td>-0.941346</td>\n",
       "      <td>2.304170</td>\n",
       "      <td>0.561030</td>\n",
       "      <td>0.443285</td>\n",
       "    </tr>\n",
       "    <tr>\n",
       "      <th>thr row</th>\n",
       "      <td>-1.079067</td>\n",
       "      <td>2.338292</td>\n",
       "      <td>0.192024</td>\n",
       "      <td>0.439772</td>\n",
       "    </tr>\n",
       "    <tr>\n",
       "      <th>for row</th>\n",
       "      <td>0.514160</td>\n",
       "      <td>-0.017655</td>\n",
       "      <td>0.198702</td>\n",
       "      <td>0.154176</td>\n",
       "    </tr>\n",
       "    <tr>\n",
       "      <th>fifth row</th>\n",
       "      <td>-0.545991</td>\n",
       "      <td>2.078547</td>\n",
       "      <td>0.876584</td>\n",
       "      <td>0.461476</td>\n",
       "    </tr>\n",
       "  </tbody>\n",
       "</table>\n",
       "</div>"
      ],
      "text/plain": [
       "            thr col   for col   fif col  sixth col\n",
       "first row -0.063294  0.564966  0.247865   0.721323\n",
       "sec row   -0.941346  2.304170  0.561030   0.443285\n",
       "thr row   -1.079067  2.338292  0.192024   0.439772\n",
       "for row    0.514160 -0.017655  0.198702   0.154176\n",
       "fifth row -0.545991  2.078547  0.876584   0.461476"
      ]
     },
     "execution_count": 105,
     "metadata": {},
     "output_type": "execute_result"
    }
   ],
   "source": [
    "df4=df3.drop('sec col',axis=1)\n",
    "df4"
   ]
  },
  {
   "cell_type": "code",
   "execution_count": 107,
   "metadata": {},
   "outputs": [
    {
     "data": {
      "text/html": [
       "<div>\n",
       "<style scoped>\n",
       "    .dataframe tbody tr th:only-of-type {\n",
       "        vertical-align: middle;\n",
       "    }\n",
       "\n",
       "    .dataframe tbody tr th {\n",
       "        vertical-align: top;\n",
       "    }\n",
       "\n",
       "    .dataframe thead th {\n",
       "        text-align: right;\n",
       "    }\n",
       "</style>\n",
       "<table border=\"1\" class=\"dataframe\">\n",
       "  <thead>\n",
       "    <tr style=\"text-align: right;\">\n",
       "      <th></th>\n",
       "      <th>sec col</th>\n",
       "      <th>thr col</th>\n",
       "      <th>for col</th>\n",
       "      <th>fif col</th>\n",
       "      <th>sixth col</th>\n",
       "    </tr>\n",
       "  </thead>\n",
       "  <tbody>\n",
       "    <tr>\n",
       "      <th>sec row</th>\n",
       "      <td>-0.214863</td>\n",
       "      <td>-0.941346</td>\n",
       "      <td>2.304170</td>\n",
       "      <td>0.561030</td>\n",
       "      <td>0.443285</td>\n",
       "    </tr>\n",
       "    <tr>\n",
       "      <th>thr row</th>\n",
       "      <td>-1.586326</td>\n",
       "      <td>-1.079067</td>\n",
       "      <td>2.338292</td>\n",
       "      <td>0.192024</td>\n",
       "      <td>0.439772</td>\n",
       "    </tr>\n",
       "    <tr>\n",
       "      <th>for row</th>\n",
       "      <td>0.620766</td>\n",
       "      <td>0.514160</td>\n",
       "      <td>-0.017655</td>\n",
       "      <td>0.198702</td>\n",
       "      <td>0.154176</td>\n",
       "    </tr>\n",
       "    <tr>\n",
       "      <th>fifth row</th>\n",
       "      <td>0.327749</td>\n",
       "      <td>-0.545991</td>\n",
       "      <td>2.078547</td>\n",
       "      <td>0.876584</td>\n",
       "      <td>0.461476</td>\n",
       "    </tr>\n",
       "  </tbody>\n",
       "</table>\n",
       "</div>"
      ],
      "text/plain": [
       "            sec col   thr col   for col   fif col  sixth col\n",
       "sec row   -0.214863 -0.941346  2.304170  0.561030   0.443285\n",
       "thr row   -1.586326 -1.079067  2.338292  0.192024   0.439772\n",
       "for row    0.620766  0.514160 -0.017655  0.198702   0.154176\n",
       "fifth row  0.327749 -0.545991  2.078547  0.876584   0.461476"
      ]
     },
     "execution_count": 107,
     "metadata": {},
     "output_type": "execute_result"
    }
   ],
   "source": [
    "df5=df3.drop('first row',axis=0)\n",
    "df5"
   ]
  },
  {
   "cell_type": "code",
   "execution_count": 109,
   "metadata": {},
   "outputs": [
    {
     "data": {
      "text/html": [
       "<div>\n",
       "<style scoped>\n",
       "    .dataframe tbody tr th:only-of-type {\n",
       "        vertical-align: middle;\n",
       "    }\n",
       "\n",
       "    .dataframe tbody tr th {\n",
       "        vertical-align: top;\n",
       "    }\n",
       "\n",
       "    .dataframe thead th {\n",
       "        text-align: right;\n",
       "    }\n",
       "</style>\n",
       "<table border=\"1\" class=\"dataframe\">\n",
       "  <thead>\n",
       "    <tr style=\"text-align: right;\">\n",
       "      <th></th>\n",
       "      <th>level_0</th>\n",
       "      <th>index</th>\n",
       "      <th>sec col</th>\n",
       "      <th>thr col</th>\n",
       "      <th>for col</th>\n",
       "      <th>fif col</th>\n",
       "      <th>sixth col</th>\n",
       "    </tr>\n",
       "  </thead>\n",
       "  <tbody>\n",
       "    <tr>\n",
       "      <th>0</th>\n",
       "      <td>0</td>\n",
       "      <td>sec row</td>\n",
       "      <td>-0.214863</td>\n",
       "      <td>-0.941346</td>\n",
       "      <td>2.304170</td>\n",
       "      <td>0.561030</td>\n",
       "      <td>0.443285</td>\n",
       "    </tr>\n",
       "    <tr>\n",
       "      <th>1</th>\n",
       "      <td>1</td>\n",
       "      <td>thr row</td>\n",
       "      <td>-1.586326</td>\n",
       "      <td>-1.079067</td>\n",
       "      <td>2.338292</td>\n",
       "      <td>0.192024</td>\n",
       "      <td>0.439772</td>\n",
       "    </tr>\n",
       "    <tr>\n",
       "      <th>2</th>\n",
       "      <td>2</td>\n",
       "      <td>for row</td>\n",
       "      <td>0.620766</td>\n",
       "      <td>0.514160</td>\n",
       "      <td>-0.017655</td>\n",
       "      <td>0.198702</td>\n",
       "      <td>0.154176</td>\n",
       "    </tr>\n",
       "    <tr>\n",
       "      <th>3</th>\n",
       "      <td>3</td>\n",
       "      <td>fifth row</td>\n",
       "      <td>0.327749</td>\n",
       "      <td>-0.545991</td>\n",
       "      <td>2.078547</td>\n",
       "      <td>0.876584</td>\n",
       "      <td>0.461476</td>\n",
       "    </tr>\n",
       "  </tbody>\n",
       "</table>\n",
       "</div>"
      ],
      "text/plain": [
       "   level_0      index   sec col   thr col   for col   fif col  sixth col\n",
       "0        0    sec row -0.214863 -0.941346  2.304170  0.561030   0.443285\n",
       "1        1    thr row -1.586326 -1.079067  2.338292  0.192024   0.439772\n",
       "2        2    for row  0.620766  0.514160 -0.017655  0.198702   0.154176\n",
       "3        3  fifth row  0.327749 -0.545991  2.078547  0.876584   0.461476"
      ]
     },
     "execution_count": 109,
     "metadata": {},
     "output_type": "execute_result"
    }
   ],
   "source": [
    "df5.reset_index(inplace=True)\n",
    "df5"
   ]
  },
  {
   "cell_type": "code",
   "execution_count": 110,
   "metadata": {},
   "outputs": [
    {
     "data": {
      "text/html": [
       "<div>\n",
       "<style scoped>\n",
       "    .dataframe tbody tr th:only-of-type {\n",
       "        vertical-align: middle;\n",
       "    }\n",
       "\n",
       "    .dataframe tbody tr th {\n",
       "        vertical-align: top;\n",
       "    }\n",
       "\n",
       "    .dataframe thead th {\n",
       "        text-align: right;\n",
       "    }\n",
       "</style>\n",
       "<table border=\"1\" class=\"dataframe\">\n",
       "  <thead>\n",
       "    <tr style=\"text-align: right;\">\n",
       "      <th></th>\n",
       "      <th>level_0</th>\n",
       "      <th>index</th>\n",
       "      <th>sec col</th>\n",
       "      <th>thr col</th>\n",
       "      <th>for col</th>\n",
       "      <th>fif col</th>\n",
       "      <th>sixth col</th>\n",
       "      <th>new name</th>\n",
       "    </tr>\n",
       "  </thead>\n",
       "  <tbody>\n",
       "    <tr>\n",
       "      <th>0</th>\n",
       "      <td>0</td>\n",
       "      <td>sec row</td>\n",
       "      <td>-0.214863</td>\n",
       "      <td>-0.941346</td>\n",
       "      <td>2.304170</td>\n",
       "      <td>0.561030</td>\n",
       "      <td>0.443285</td>\n",
       "      <td>This</td>\n",
       "    </tr>\n",
       "    <tr>\n",
       "      <th>1</th>\n",
       "      <td>1</td>\n",
       "      <td>thr row</td>\n",
       "      <td>-1.586326</td>\n",
       "      <td>-1.079067</td>\n",
       "      <td>2.338292</td>\n",
       "      <td>0.192024</td>\n",
       "      <td>0.439772</td>\n",
       "      <td>is</td>\n",
       "    </tr>\n",
       "    <tr>\n",
       "      <th>2</th>\n",
       "      <td>2</td>\n",
       "      <td>for row</td>\n",
       "      <td>0.620766</td>\n",
       "      <td>0.514160</td>\n",
       "      <td>-0.017655</td>\n",
       "      <td>0.198702</td>\n",
       "      <td>0.154176</td>\n",
       "      <td>the</td>\n",
       "    </tr>\n",
       "    <tr>\n",
       "      <th>3</th>\n",
       "      <td>3</td>\n",
       "      <td>fifth row</td>\n",
       "      <td>0.327749</td>\n",
       "      <td>-0.545991</td>\n",
       "      <td>2.078547</td>\n",
       "      <td>0.876584</td>\n",
       "      <td>0.461476</td>\n",
       "      <td>row</td>\n",
       "    </tr>\n",
       "  </tbody>\n",
       "</table>\n",
       "</div>"
      ],
      "text/plain": [
       "   level_0      index   sec col   thr col   for col   fif col  sixth col  \\\n",
       "0        0    sec row -0.214863 -0.941346  2.304170  0.561030   0.443285   \n",
       "1        1    thr row -1.586326 -1.079067  2.338292  0.192024   0.439772   \n",
       "2        2    for row  0.620766  0.514160 -0.017655  0.198702   0.154176   \n",
       "3        3  fifth row  0.327749 -0.545991  2.078547  0.876584   0.461476   \n",
       "\n",
       "  new name  \n",
       "0     This  \n",
       "1       is  \n",
       "2      the  \n",
       "3      row  "
      ]
     },
     "execution_count": 110,
     "metadata": {},
     "output_type": "execute_result"
    }
   ],
   "source": [
    "df5['new name'] = ['This','is','the','row']\n",
    "df5\n"
   ]
  },
  {
   "cell_type": "code",
   "execution_count": 111,
   "metadata": {},
   "outputs": [
    {
     "data": {
      "text/html": [
       "<div>\n",
       "<style scoped>\n",
       "    .dataframe tbody tr th:only-of-type {\n",
       "        vertical-align: middle;\n",
       "    }\n",
       "\n",
       "    .dataframe tbody tr th {\n",
       "        vertical-align: top;\n",
       "    }\n",
       "\n",
       "    .dataframe thead th {\n",
       "        text-align: right;\n",
       "    }\n",
       "</style>\n",
       "<table border=\"1\" class=\"dataframe\">\n",
       "  <thead>\n",
       "    <tr style=\"text-align: right;\">\n",
       "      <th></th>\n",
       "      <th>level_0</th>\n",
       "      <th>index</th>\n",
       "      <th>sec col</th>\n",
       "      <th>thr col</th>\n",
       "      <th>for col</th>\n",
       "      <th>fif col</th>\n",
       "      <th>sixth col</th>\n",
       "    </tr>\n",
       "    <tr>\n",
       "      <th>new name</th>\n",
       "      <th></th>\n",
       "      <th></th>\n",
       "      <th></th>\n",
       "      <th></th>\n",
       "      <th></th>\n",
       "      <th></th>\n",
       "      <th></th>\n",
       "    </tr>\n",
       "  </thead>\n",
       "  <tbody>\n",
       "    <tr>\n",
       "      <th>This</th>\n",
       "      <td>0</td>\n",
       "      <td>sec row</td>\n",
       "      <td>-0.214863</td>\n",
       "      <td>-0.941346</td>\n",
       "      <td>2.304170</td>\n",
       "      <td>0.561030</td>\n",
       "      <td>0.443285</td>\n",
       "    </tr>\n",
       "    <tr>\n",
       "      <th>is</th>\n",
       "      <td>1</td>\n",
       "      <td>thr row</td>\n",
       "      <td>-1.586326</td>\n",
       "      <td>-1.079067</td>\n",
       "      <td>2.338292</td>\n",
       "      <td>0.192024</td>\n",
       "      <td>0.439772</td>\n",
       "    </tr>\n",
       "    <tr>\n",
       "      <th>the</th>\n",
       "      <td>2</td>\n",
       "      <td>for row</td>\n",
       "      <td>0.620766</td>\n",
       "      <td>0.514160</td>\n",
       "      <td>-0.017655</td>\n",
       "      <td>0.198702</td>\n",
       "      <td>0.154176</td>\n",
       "    </tr>\n",
       "    <tr>\n",
       "      <th>row</th>\n",
       "      <td>3</td>\n",
       "      <td>fifth row</td>\n",
       "      <td>0.327749</td>\n",
       "      <td>-0.545991</td>\n",
       "      <td>2.078547</td>\n",
       "      <td>0.876584</td>\n",
       "      <td>0.461476</td>\n",
       "    </tr>\n",
       "  </tbody>\n",
       "</table>\n",
       "</div>"
      ],
      "text/plain": [
       "          level_0      index   sec col   thr col   for col   fif col  \\\n",
       "new name                                                               \n",
       "This            0    sec row -0.214863 -0.941346  2.304170  0.561030   \n",
       "is              1    thr row -1.586326 -1.079067  2.338292  0.192024   \n",
       "the             2    for row  0.620766  0.514160 -0.017655  0.198702   \n",
       "row             3  fifth row  0.327749 -0.545991  2.078547  0.876584   \n",
       "\n",
       "          sixth col  \n",
       "new name             \n",
       "This       0.443285  \n",
       "is         0.439772  \n",
       "the        0.154176  \n",
       "row        0.461476  "
      ]
     },
     "execution_count": 111,
     "metadata": {},
     "output_type": "execute_result"
    }
   ],
   "source": [
    "df5.set_index('new name',inplace=True)\n",
    "df5\n"
   ]
  },
  {
   "cell_type": "code",
   "execution_count": 4,
   "metadata": {},
   "outputs": [
    {
     "name": "stdout",
     "output_type": "stream",
     "text": [
      "Same Location\n"
     ]
    }
   ],
   "source": [
    "import pandas as pd\n",
    "df1 = pd.DataFrame([1,2,3,4,5])\n",
    "df2 = df1\n",
    "A=id(df1)\n",
    "B=id(df2)\n",
    "if A==B:\n",
    "    print(\"Same Location\")\n",
    "else:\n",
    "    print(\"Different location\")"
   ]
  },
  {
   "cell_type": "code",
   "execution_count": 5,
   "metadata": {},
   "outputs": [
    {
     "data": {
      "text/plain": [
       "array([-0.8, -0.6, -0.4, -0.2])"
      ]
     },
     "execution_count": 5,
     "metadata": {},
     "output_type": "execute_result"
    }
   ],
   "source": [
    "\n",
    "import numpy as RANGE\n",
    "RANGE.arange(-0.8,0,0.2)"
   ]
  },
  {
   "cell_type": "code",
   "execution_count": 9,
   "metadata": {},
   "outputs": [
    {
     "name": "stdout",
     "output_type": "stream",
     "text": [
      "X\n"
     ]
    }
   ],
   "source": [
    "data = {'prodID': ['101', '102', '103', '104', '104'],\n",
    "'prodname': ['X', 'Y', 'Z', 'X', 'W'],\n",
    "'profit': ['2738', '2727', '3497', '7347', '3743']}\n",
    "df = pd.DataFrame(data, index=['one','two','three','four','five'])\n",
    "print(df['prodname'][3])"
   ]
  },
  {
   "cell_type": "code",
   "execution_count": 10,
   "metadata": {},
   "outputs": [
    {
     "name": "stdout",
     "output_type": "stream",
     "text": [
      "This is a python quiz 2020\n"
     ]
    }
   ],
   "source": [
    "A='This is a python quiz'\n",
    "B= ' 2020'\n",
    "D = A+B\n",
    "print(D)"
   ]
  },
  {
   "cell_type": "code",
   "execution_count": 11,
   "metadata": {},
   "outputs": [
    {
     "name": "stdout",
     "output_type": "stream",
     "text": [
      "This\n"
     ]
    },
    {
     "ename": "TypeError",
     "evalue": "'tuple' object does not support item assignment",
     "output_type": "error",
     "traceback": [
      "\u001b[0;31m---------------------------------------------------------------------------\u001b[0m",
      "\u001b[0;31mTypeError\u001b[0m                                 Traceback (most recent call last)",
      "\u001b[0;32m<ipython-input-11-8b22cc8f1ae8>\u001b[0m in \u001b[0;36m<module>\u001b[0;34m\u001b[0m\n\u001b[1;32m      1\u001b[0m \u001b[0mSample\u001b[0m \u001b[0;34m=\u001b[0m \u001b[0;34m(\u001b[0m\u001b[0;34m'This'\u001b[0m\u001b[0;34m,\u001b[0m \u001b[0;34m'Is'\u001b[0m\u001b[0;34m,\u001b[0m \u001b[0;34m\"Sample\"\u001b[0m\u001b[0;34m)\u001b[0m\u001b[0;34m\u001b[0m\u001b[0;34m\u001b[0m\u001b[0m\n\u001b[1;32m      2\u001b[0m \u001b[0mprint\u001b[0m\u001b[0;34m(\u001b[0m\u001b[0mSample\u001b[0m\u001b[0;34m[\u001b[0m\u001b[0;36m0\u001b[0m\u001b[0;34m]\u001b[0m\u001b[0;34m)\u001b[0m\u001b[0;34m\u001b[0m\u001b[0;34m\u001b[0m\u001b[0m\n\u001b[0;32m----> 3\u001b[0;31m \u001b[0mSample\u001b[0m\u001b[0;34m[\u001b[0m\u001b[0;36m1\u001b[0m\u001b[0;34m]\u001b[0m\u001b[0;34m=\u001b[0m\u001b[0;34m\"*\"\u001b[0m\u001b[0;34m\u001b[0m\u001b[0;34m\u001b[0m\u001b[0m\n\u001b[0m\u001b[1;32m      4\u001b[0m \u001b[0mprint\u001b[0m\u001b[0;34m(\u001b[0m\u001b[0mSample\u001b[0m\u001b[0;34m[\u001b[0m\u001b[0;36m1\u001b[0m\u001b[0;34m]\u001b[0m\u001b[0;34m)\u001b[0m\u001b[0;34m\u001b[0m\u001b[0;34m\u001b[0m\u001b[0m\n",
      "\u001b[0;31mTypeError\u001b[0m: 'tuple' object does not support item assignment"
     ]
    }
   ],
   "source": [
    "\n",
    "Sample = ('This', 'Is', \"Sample\")\n",
    "print(Sample[0])\n",
    "Sample[1]=\"*\"\n",
    "print(Sample[1])\n"
   ]
  },
  {
   "cell_type": "code",
   "execution_count": null,
   "metadata": {},
   "outputs": [],
   "source": []
  }
 ],
 "metadata": {
  "kernelspec": {
   "display_name": "Python 3",
   "language": "python",
   "name": "python3"
  },
  "language_info": {
   "codemirror_mode": {
    "name": "ipython",
    "version": 3
   },
   "file_extension": ".py",
   "mimetype": "text/x-python",
   "name": "python",
   "nbconvert_exporter": "python",
   "pygments_lexer": "ipython3",
   "version": "3.8.5"
  }
 },
 "nbformat": 4,
 "nbformat_minor": 4
}
